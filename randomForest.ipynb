{
 "cells": [
  {
   "cell_type": "code",
   "execution_count": 1,
   "metadata": {},
   "outputs": [
    {
     "name": "stderr",
     "output_type": "stream",
     "text": [
      "/usr/local/lib/python2.7/dist-packages/sklearn/cross_validation.py:41: DeprecationWarning: This module was deprecated in version 0.18 in favor of the model_selection module into which all the refactored classes and functions are moved. Also note that the interface of the new CV iterators are different from that of this module. This module will be removed in 0.20.\n",
      "  \"This module will be removed in 0.20.\", DeprecationWarning)\n",
      "/usr/local/lib/python2.7/dist-packages/sklearn/grid_search.py:42: DeprecationWarning: This module was deprecated in version 0.18 in favor of the model_selection module into which all the refactored classes and functions are moved. This module will be removed in 0.20.\n",
      "  DeprecationWarning)\n",
      "Using TensorFlow backend.\n"
     ]
    }
   ],
   "source": [
    "from sklearn.ensemble import RandomForestClassifier\n",
    "from sklearn.grid_search import GridSearchCV\n",
    "from sklearn import cross_validation, metrics\n",
    "import matplotlib.pylab as plt\n",
    "import pandas as pd\n",
    "import os"
   ]
  },
  {
   "cell_type": "code",
   "execution_count": 3,
   "metadata": {},
   "outputs": [
    {
     "name": "stderr",
     "output_type": "stream",
     "text": [
      "/usr/local/lib/python2.7/dist-packages/pandas/core/indexing.py:194: SettingWithCopyWarning: \n",
      "A value is trying to be set on a copy of a slice from a DataFrame\n",
      "\n",
      "See the caveats in the documentation: http://pandas.pydata.org/pandas-docs/stable/indexing.html#indexing-view-versus-copy\n",
      "  self._setitem_with_indexer(indexer, value)\n"
     ]
    }
   ],
   "source": [
    "train = pd.read_csv('FINAL_OUT_v1.csv')\n",
    "train['F0823'].loc[train['F0823'] < 10.0] = -1\n",
    "train['F0823'].loc[train['F0823'] >= 10.0] = 1"
   ]
  },
  {
   "cell_type": "code",
   "execution_count": 4,
   "metadata": {},
   "outputs": [
    {
     "data": {
      "text/plain": [
       " 1.0    6857103\n",
       "-1.0     585424\n",
       "Name: F0823, dtype: int64"
      ]
     },
     "execution_count": 4,
     "metadata": {},
     "output_type": "execute_result"
    }
   ],
   "source": [
    "target='F0823' # F0823的值就是二元分类输出，即标签\n",
    "IDcol= 'RELATED_ENODEB'\n",
    "train['F0823'].value_counts()"
   ]
  },
  {
   "cell_type": "code",
   "execution_count": 5,
   "metadata": {},
   "outputs": [],
   "source": [
    "x_columns = [x for x in train.columns if x not in [target,IDcol]]\n",
    "X = train[x_columns]\n",
    "y = train[target]"
   ]
  },
  {
   "cell_type": "code",
   "execution_count": 8,
   "metadata": {},
   "outputs": [
    {
     "data": {
      "text/plain": [
       "((4465516, 193), (4465516,))"
      ]
     },
     "execution_count": 8,
     "metadata": {},
     "output_type": "execute_result"
    }
   ],
   "source": [
    "X_train, X_test, y_train, y_test = cross_validation.train_test_split( X, y, test_size=0.4, random_state=0)\n",
    "X_train.shape, y_train.shape"
   ]
  },
  {
   "cell_type": "code",
   "execution_count": 9,
   "metadata": {},
   "outputs": [
    {
     "data": {
      "text/plain": [
       "((2977011, 193), (2977011,))"
      ]
     },
     "execution_count": 9,
     "metadata": {},
     "output_type": "execute_result"
    }
   ],
   "source": [
    "X_test.shape,y_test.shape"
   ]
  },
  {
   "cell_type": "code",
   "execution_count": 1,
   "metadata": {},
   "outputs": [
    {
     "ename": "NameError",
     "evalue": "name 'RandomForestClassifier' is not defined",
     "traceback": [
      "\u001b[0;31m---------------------------------------------------------------------------\u001b[0m",
      "\u001b[0;31mNameError\u001b[0m                                 Traceback (most recent call last)",
      "\u001b[0;32m<ipython-input-1-43bb25604628>\u001b[0m in \u001b[0;36m<module>\u001b[0;34m()\u001b[0m\n\u001b[1;32m      1\u001b[0m \u001b[0;31m#使用默认参数拟合数据\u001b[0m\u001b[0;34m\u001b[0m\u001b[0;34m\u001b[0m\u001b[0m\n\u001b[0;32m----> 2\u001b[0;31m \u001b[0mrf0\u001b[0m \u001b[0;34m=\u001b[0m \u001b[0mRandomForestClassifier\u001b[0m\u001b[0;34m(\u001b[0m\u001b[0moob_score\u001b[0m\u001b[0;34m=\u001b[0m\u001b[0mTrue\u001b[0m\u001b[0;34m,\u001b[0m \u001b[0mrandom_state\u001b[0m\u001b[0;34m=\u001b[0m\u001b[0;36m10\u001b[0m\u001b[0;34m)\u001b[0m\u001b[0;34m\u001b[0m\u001b[0m\n\u001b[0m\u001b[1;32m      3\u001b[0m \u001b[0mrf0\u001b[0m\u001b[0;34m.\u001b[0m\u001b[0mfit\u001b[0m\u001b[0;34m(\u001b[0m\u001b[0mX_train\u001b[0m\u001b[0;34m,\u001b[0m\u001b[0my_train\u001b[0m\u001b[0;34m)\u001b[0m\u001b[0;34m\u001b[0m\u001b[0m\n\u001b[1;32m      4\u001b[0m \u001b[0;32mprint\u001b[0m \u001b[0mrf0\u001b[0m\u001b[0;34m.\u001b[0m\u001b[0moob_score_\u001b[0m\u001b[0;34m\u001b[0m\u001b[0m\n\u001b[1;32m      5\u001b[0m \u001b[0my_predprob\u001b[0m \u001b[0;34m=\u001b[0m \u001b[0mrf0\u001b[0m\u001b[0;34m.\u001b[0m\u001b[0mpredict_proba\u001b[0m\u001b[0;34m(\u001b[0m\u001b[0mX_train\u001b[0m\u001b[0;34m)\u001b[0m\u001b[0;34m[\u001b[0m\u001b[0;34m:\u001b[0m\u001b[0;34m,\u001b[0m\u001b[0;36m1\u001b[0m\u001b[0;34m]\u001b[0m\u001b[0;34m\u001b[0m\u001b[0m\n",
      "\u001b[0;31mNameError\u001b[0m: name 'RandomForestClassifier' is not defined"
     ],
     "output_type": "error"
    }
   ],
   "source": [
    "#使用默认参数拟合数据\n",
    "rf0 = RandomForestClassifier(oob_score=True, random_state=10)\n",
    "rf0.fit(X_train,y_train)\n",
    "print rf0.oob_score_\n",
    "y_predprob = rf0.predict_proba(X_train)[:,1]\n",
    "print \"AUC Score (Train): %f\" % metrics.roc_auc_score(y_train,y_predprob)"
   ]
  },
  {
   "cell_type": "code",
   "execution_count": 8,
   "metadata": {},
   "outputs": [
    {
     "data": {
      "text/plain": [
       "([mean: 0.98073, std: 0.00190, params: {'n_estimators': 10},\n",
       "  mean: 0.98244, std: 0.00231, params: {'n_estimators': 20},\n",
       "  mean: 0.98577, std: 0.00126, params: {'n_estimators': 30},\n",
       "  mean: 0.98603, std: 0.00147, params: {'n_estimators': 40},\n",
       "  mean: 0.98768, std: 0.00137, params: {'n_estimators': 50},\n",
       "  mean: 0.98987, std: 0.00127, params: {'n_estimators': 60},\n",
       "  mean: 0.99003, std: 0.00110, params: {'n_estimators': 70}],\n",
       " {'n_estimators': 70},\n",
       " 0.9900325707431648)"
      ]
     },
     "execution_count": 8,
     "metadata": {},
     "output_type": "execute_result"
    }
   ],
   "source": [
    "#对n_estaimators进行网格搜索\n",
    "param_test1= {'n_estimators':range(10,71,10)}\n",
    "gsearch1= GridSearchCV(estimator = RandomForestClassifier(min_samples_split=100,\n",
    "                                 min_samples_leaf=20,max_depth=8,max_features='sqrt' ,random_state=10),\n",
    "                       param_grid =param_test1, scoring='roc_auc',cv=5)\n",
    "gsearch1.fit(X_train,y_train)\n",
    "gsearch1.grid_scores_,gsearch1.best_params_, gsearch1.best_score_\n",
    "#得到最佳弱学习器迭代次数"
   ]
  },
  {
   "cell_type": "code",
   "execution_count": 9,
   "metadata": {},
   "outputs": [
    {
     "data": {
      "text/plain": [
       "([mean: 0.96401, std: 0.00144, params: {'min_samples_split': 50, 'max_depth': 3},\n",
       "  mean: 0.96474, std: 0.00126, params: {'min_samples_split': 70, 'max_depth': 3},\n",
       "  mean: 0.96433, std: 0.00125, params: {'min_samples_split': 90, 'max_depth': 3},\n",
       "  mean: 0.96422, std: 0.00116, params: {'min_samples_split': 110, 'max_depth': 3},\n",
       "  mean: 0.96422, std: 0.00115, params: {'min_samples_split': 130, 'max_depth': 3},\n",
       "  mean: 0.96376, std: 0.00181, params: {'min_samples_split': 150, 'max_depth': 3},\n",
       "  mean: 0.96317, std: 0.00179, params: {'min_samples_split': 170, 'max_depth': 3},\n",
       "  mean: 0.96311, std: 0.00184, params: {'min_samples_split': 190, 'max_depth': 3},\n",
       "  mean: 0.98096, std: 0.00323, params: {'min_samples_split': 50, 'max_depth': 5},\n",
       "  mean: 0.97999, std: 0.00274, params: {'min_samples_split': 70, 'max_depth': 5},\n",
       "  mean: 0.97935, std: 0.00270, params: {'min_samples_split': 90, 'max_depth': 5},\n",
       "  mean: 0.97775, std: 0.00152, params: {'min_samples_split': 110, 'max_depth': 5},\n",
       "  mean: 0.97821, std: 0.00258, params: {'min_samples_split': 130, 'max_depth': 5},\n",
       "  mean: 0.97798, std: 0.00143, params: {'min_samples_split': 150, 'max_depth': 5},\n",
       "  mean: 0.97856, std: 0.00239, params: {'min_samples_split': 170, 'max_depth': 5},\n",
       "  mean: 0.97808, std: 0.00307, params: {'min_samples_split': 190, 'max_depth': 5},\n",
       "  mean: 0.98974, std: 0.00170, params: {'min_samples_split': 50, 'max_depth': 7},\n",
       "  mean: 0.98991, std: 0.00205, params: {'min_samples_split': 70, 'max_depth': 7},\n",
       "  mean: 0.98902, std: 0.00204, params: {'min_samples_split': 90, 'max_depth': 7},\n",
       "  mean: 0.98828, std: 0.00168, params: {'min_samples_split': 110, 'max_depth': 7},\n",
       "  mean: 0.98665, std: 0.00148, params: {'min_samples_split': 130, 'max_depth': 7},\n",
       "  mean: 0.98706, std: 0.00142, params: {'min_samples_split': 150, 'max_depth': 7},\n",
       "  mean: 0.98701, std: 0.00109, params: {'min_samples_split': 170, 'max_depth': 7},\n",
       "  mean: 0.98569, std: 0.00247, params: {'min_samples_split': 190, 'max_depth': 7},\n",
       "  mean: 0.99276, std: 0.00060, params: {'min_samples_split': 50, 'max_depth': 9},\n",
       "  mean: 0.99199, std: 0.00088, params: {'min_samples_split': 70, 'max_depth': 9},\n",
       "  mean: 0.99197, std: 0.00109, params: {'min_samples_split': 90, 'max_depth': 9},\n",
       "  mean: 0.99151, std: 0.00110, params: {'min_samples_split': 110, 'max_depth': 9},\n",
       "  mean: 0.99021, std: 0.00150, params: {'min_samples_split': 130, 'max_depth': 9},\n",
       "  mean: 0.98977, std: 0.00083, params: {'min_samples_split': 150, 'max_depth': 9},\n",
       "  mean: 0.98975, std: 0.00048, params: {'min_samples_split': 170, 'max_depth': 9},\n",
       "  mean: 0.98875, std: 0.00067, params: {'min_samples_split': 190, 'max_depth': 9},\n",
       "  mean: 0.99379, std: 0.00041, params: {'min_samples_split': 50, 'max_depth': 11},\n",
       "  mean: 0.99317, std: 0.00058, params: {'min_samples_split': 70, 'max_depth': 11},\n",
       "  mean: 0.99278, std: 0.00098, params: {'min_samples_split': 90, 'max_depth': 11},\n",
       "  mean: 0.99299, std: 0.00067, params: {'min_samples_split': 110, 'max_depth': 11},\n",
       "  mean: 0.99216, std: 0.00111, params: {'min_samples_split': 130, 'max_depth': 11},\n",
       "  mean: 0.99143, std: 0.00120, params: {'min_samples_split': 150, 'max_depth': 11},\n",
       "  mean: 0.99102, std: 0.00060, params: {'min_samples_split': 170, 'max_depth': 11},\n",
       "  mean: 0.99081, std: 0.00121, params: {'min_samples_split': 190, 'max_depth': 11},\n",
       "  mean: 0.99446, std: 0.00028, params: {'min_samples_split': 50, 'max_depth': 13},\n",
       "  mean: 0.99403, std: 0.00058, params: {'min_samples_split': 70, 'max_depth': 13},\n",
       "  mean: 0.99389, std: 0.00056, params: {'min_samples_split': 90, 'max_depth': 13},\n",
       "  mean: 0.99344, std: 0.00085, params: {'min_samples_split': 110, 'max_depth': 13},\n",
       "  mean: 0.99314, std: 0.00083, params: {'min_samples_split': 130, 'max_depth': 13},\n",
       "  mean: 0.99257, std: 0.00088, params: {'min_samples_split': 150, 'max_depth': 13},\n",
       "  mean: 0.99189, std: 0.00093, params: {'min_samples_split': 170, 'max_depth': 13},\n",
       "  mean: 0.99175, std: 0.00095, params: {'min_samples_split': 190, 'max_depth': 13}],\n",
       " {'max_depth': 13, 'min_samples_split': 50},\n",
       " 0.9944618253362287)"
      ]
     },
     "execution_count": 9,
     "metadata": {},
     "output_type": "execute_result"
    }
   ],
   "source": [
    "#对最大深度max_depth和min_samples_split进行网格搜索\n",
    "param_test2= {'max_depth':range(3,14,2), 'min_samples_split':range(50,201,20)}\n",
    "gsearch2= GridSearchCV(estimator = RandomForestClassifier(n_estimators= 60,\n",
    "                                 min_samples_leaf=20,max_features='sqrt' ,oob_score=True,random_state=10),\n",
    "   param_grid = param_test2,scoring='roc_auc',iid=False, cv=5)\n",
    "gsearch2.fit(X_train,y_train)\n",
    "gsearch2.grid_scores_,gsearch2.best_params_, gsearch2.best_score_"
   ]
  },
  {
   "cell_type": "code",
   "execution_count": 10,
   "metadata": {},
   "outputs": [
    {
     "name": "stdout",
     "output_type": "stream",
     "text": [
      "0.98236546926\n"
     ]
    }
   ],
   "source": [
    "#用现有的三个参数，查看模型的袋外分数\n",
    "rf1= RandomForestClassifier(n_estimators= 70, max_depth=13, min_samples_split=50,\n",
    "                                 min_samples_leaf=20,max_features='sqrt' ,oob_score=True,random_state=10)\n",
    "rf1.fit(X_train,y_train)\n",
    "print rf1.oob_score_"
   ]
  },
  {
   "cell_type": "code",
   "execution_count": 11,
   "metadata": {},
   "outputs": [
    {
     "data": {
      "text/plain": [
       "([mean: 0.99465, std: 0.00041, params: {'min_samples_split': 50, 'min_samples_leaf': 10},\n",
       "  mean: 0.99440, std: 0.00049, params: {'min_samples_split': 70, 'min_samples_leaf': 10},\n",
       "  mean: 0.99398, std: 0.00058, params: {'min_samples_split': 90, 'min_samples_leaf': 10},\n",
       "  mean: 0.99369, std: 0.00078, params: {'min_samples_split': 110, 'min_samples_leaf': 10},\n",
       "  mean: 0.99446, std: 0.00028, params: {'min_samples_split': 50, 'min_samples_leaf': 20},\n",
       "  mean: 0.99403, std: 0.00058, params: {'min_samples_split': 70, 'min_samples_leaf': 20},\n",
       "  mean: 0.99389, std: 0.00056, params: {'min_samples_split': 90, 'min_samples_leaf': 20},\n",
       "  mean: 0.99344, std: 0.00085, params: {'min_samples_split': 110, 'min_samples_leaf': 20},\n",
       "  mean: 0.99420, std: 0.00059, params: {'min_samples_split': 50, 'min_samples_leaf': 30},\n",
       "  mean: 0.99402, std: 0.00068, params: {'min_samples_split': 70, 'min_samples_leaf': 30},\n",
       "  mean: 0.99370, std: 0.00082, params: {'min_samples_split': 90, 'min_samples_leaf': 30},\n",
       "  mean: 0.99340, std: 0.00062, params: {'min_samples_split': 110, 'min_samples_leaf': 30},\n",
       "  mean: 0.99335, std: 0.00084, params: {'min_samples_split': 50, 'min_samples_leaf': 40},\n",
       "  mean: 0.99335, std: 0.00084, params: {'min_samples_split': 70, 'min_samples_leaf': 40},\n",
       "  mean: 0.99323, std: 0.00076, params: {'min_samples_split': 90, 'min_samples_leaf': 40},\n",
       "  mean: 0.99286, std: 0.00066, params: {'min_samples_split': 110, 'min_samples_leaf': 40},\n",
       "  mean: 0.99278, std: 0.00088, params: {'min_samples_split': 50, 'min_samples_leaf': 50},\n",
       "  mean: 0.99278, std: 0.00088, params: {'min_samples_split': 70, 'min_samples_leaf': 50},\n",
       "  mean: 0.99278, std: 0.00088, params: {'min_samples_split': 90, 'min_samples_leaf': 50},\n",
       "  mean: 0.99280, std: 0.00071, params: {'min_samples_split': 110, 'min_samples_leaf': 50}],\n",
       " {'max_depth': 13, 'min_samples_split': 50},\n",
       " 0.9944618253362287)"
      ]
     },
     "execution_count": 11,
     "metadata": {},
     "output_type": "execute_result"
    }
   ],
   "source": [
    "#再对内部节点再划分所需最小样本数min_samples_split和叶子节点最少样本数min_samples_leaf一起调参\n",
    "param_test3= {'min_samples_split':range(50,130,20), 'min_samples_leaf':range(10,60,10)}\n",
    "gsearch3= GridSearchCV(estimator = RandomForestClassifier(n_estimators= 60,max_depth=13,\n",
    "                                 max_features='sqrt' ,oob_score=True, random_state=10),\n",
    "   param_grid = param_test3,scoring='roc_auc',iid=False, cv=5)\n",
    "gsearch3.fit(X_train,y_train)\n",
    "gsearch3.grid_scores_,gsearch2.best_params_, gsearch2.best_score_"
   ]
  },
  {
   "cell_type": "code",
   "execution_count": 12,
   "metadata": {},
   "outputs": [
    {
     "data": {
      "text/plain": [
       "([mean: 0.97263, std: 0.00335, params: {'max_features': 3},\n",
       "  mean: 0.98666, std: 0.00123, params: {'max_features': 5},\n",
       "  mean: 0.99024, std: 0.00042, params: {'max_features': 7},\n",
       "  mean: 0.99270, std: 0.00032, params: {'max_features': 9}],\n",
       " {'max_features': 9},\n",
       " 0.992700686431008)"
      ]
     },
     "execution_count": 12,
     "metadata": {},
     "output_type": "execute_result"
    }
   ],
   "source": [
    "#最后我们再对最大特征数max_features做调参:\n",
    "param_test4= {'max_features':range(3,11,2)}\n",
    "gsearch4= GridSearchCV(estimator = RandomForestClassifier(n_estimators= 70,max_depth=13, min_samples_split=50,\n",
    "                                 min_samples_leaf=10 ,oob_score=True, random_state=10),\n",
    "   param_grid = param_test4,scoring='roc_auc',iid=False, cv=5)\n",
    "gsearch4.fit(X_train,y_train)\n",
    "gsearch4.grid_scores_,gsearch4.best_params_, gsearch4.best_score_\n"
   ]
  },
  {
   "cell_type": "code",
   "execution_count": 13,
   "metadata": {},
   "outputs": [
    {
     "name": "stdout",
     "output_type": "stream",
     "text": [
      "0.96481612949\n"
     ]
    }
   ],
   "source": [
    "#测试调好参数的模型袋外分数\n",
    "rf2= RandomForestClassifier(n_estimators= 70, max_depth=13, min_samples_split=50,\n",
    "                                 min_samples_leaf=10,max_features=9 ,oob_score=True, random_state=10)\n",
    "rf2.fit(X_train,y_train)\n",
    "print rf2.oob_score_"
   ]
  },
  {
   "cell_type": "code",
   "execution_count": 14,
   "metadata": {},
   "outputs": [
    {
     "name": "stdout",
     "output_type": "stream",
     "text": [
      "0.966350044725\n"
     ]
    }
   ],
   "source": [
    "#看测试集结果\n",
    "clf = RandomForestClassifier(n_estimators= 70, max_depth=13, min_samples_split=50,\n",
    "                                 min_samples_leaf=10,max_features=9 ,oob_score=True, random_state=10)\n",
    "clf.fit(X_train,y_train)\n",
    "print clf.score(X_test, y_test)"
   ]
  },
  {
   "cell_type": "code",
   "execution_count": null,
   "metadata": {},
   "outputs": [],
   "source": []
  }
 ],
 "metadata": {
  "kernelspec": {
   "display_name": "ML",
   "language": "python",
   "name": "ml"
  },
  "language_info": {
   "codemirror_mode": {
    "name": "ipython",
    "version": 2
   },
   "file_extension": ".py",
   "mimetype": "text/x-python",
   "name": "python",
   "nbconvert_exporter": "python",
   "pygments_lexer": "ipython2",
   "version": "2.7.12"
  }
 },
 "nbformat": 4,
 "nbformat_minor": 2
}
